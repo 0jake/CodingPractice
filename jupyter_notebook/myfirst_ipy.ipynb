{
 "cells": [
  {
   "cell_type": "code",
   "execution_count": 1,
   "metadata": {},
   "outputs": [
    {
     "name": "stdout",
     "output_type": "stream",
     "text": [
      "E:\\github_repo\\CodingPractice\\TensorFlow\n",
      "(?, 10)\n"
     ]
    }
   ],
   "source": [
    "import os\n",
    "import sys\n",
    "import tensorflow as tf\n",
    "from tensorflow import layers\n",
    "# import tensorflow.layers as layers\n",
    "import tensorflow.contrib as tc\n",
    "\n",
    "dst_dir = r\"..\\TensorFlow\"\n",
    "os.chdir(dst_dir)\n",
    "print(os.getcwd())\n",
    "sys.path.append(os.getcwd())\n",
    "from mnist import mnist_model\n",
    "\n",
    "# indent reference\n",
    "# http://jupyter-notebook.readthedocs.io/en/stable/frontend_config.html#example-changing-the-notebook-s-default-indentation\n",
    "tf.reset_default_graph() \n",
    "\n",
    "data_format = \"NHWC\"\n",
    "model = mnist_model.lenet(data_format)\n",
    "print(model.output.shape)\n"
   ]
  },
  {
   "cell_type": "code",
   "execution_count": null,
   "metadata": {},
   "outputs": [],
   "source": []
  }
 ],
 "metadata": {
  "kernelspec": {
   "display_name": "Python 3",
   "language": "python",
   "name": "python3"
  },
  "language_info": {
   "codemirror_mode": {
    "name": "ipython",
    "version": 3
   },
   "file_extension": ".py",
   "mimetype": "text/x-python",
   "name": "python",
   "nbconvert_exporter": "python",
   "pygments_lexer": "ipython3",
   "version": "3.6.4"
  }
 },
 "nbformat": 4,
 "nbformat_minor": 2
}
