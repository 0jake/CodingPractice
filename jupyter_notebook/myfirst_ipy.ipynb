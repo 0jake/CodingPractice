{
 "cells": [
  {
   "cell_type": "code",
   "execution_count": 5,
   "metadata": {},
   "outputs": [
    {
     "ename": "IndentationError",
     "evalue": "unindent does not match any outer indentation level (<tokenize>, line 13)",
     "output_type": "error",
     "traceback": [
      "\u001b[1;36m  File \u001b[1;32m\"<tokenize>\"\u001b[1;36m, line \u001b[1;32m13\u001b[0m\n\u001b[1;33m    else :\u001b[0m\n\u001b[1;37m    ^\u001b[0m\n\u001b[1;31mIndentationError\u001b[0m\u001b[1;31m:\u001b[0m unindent does not match any outer indentation level\n"
     ]
    }
   ],
   "source": [
    "import tensorflow as tf\n",
    "import tensorflow.layers as layers\n",
    "import tensorflow.contrib as tc\n",
    "# indent reference\n",
    "# http://jupyter-notebook.readthedocs.io/en/stable/frontend_config.html#example-changing-the-notebook-s-default-indentation\n",
    "def main():\n",
    "  return\n",
    "# global avg pooling\n",
    "class gap_lenet():\n",
    "  def __init__(self, input_size=(28, 28), data_format=\"NCHW\"):\n",
    "    self.data_format = data_format\n",
    "    self.input_size = input_size\n",
    "    with tf.variable_scope(\"mnist\"):\n",
    "      if data_format == \"NCHW\":\n",
    "        self.x = tf.placeholder(dtype=tf.float32,\n",
    "                                shape=[None, 1, input_size, input_size])\n",
    "      else :\n",
    "        self.x = tf.placeholder(dtype=tf.float32,\n",
    "                                shape=[None, input_size, input_size, 1])\n",
    "    self.output = self._build_model(self.x)\n",
    "    return\n",
    "  \n",
    "  def _build_model(self, x):\n",
    "    return output\n",
    "  \n",
    "  def _conv2d(self, x):\n",
    "    init = tf.contrib.layers.xavier_initializer(dtype=tf.float32)\n",
    "    output = layers.conv2d(x, n_out, kernel_size=3, stride=1,\n",
    "                           padding=\"same\", data_format=self.data_format,\n",
    "                          activation=None, use_bias=False,\n",
    "                                kernel_initializer=init)\n",
    "    output = tf.sigmod(x)\n",
    "    return output\n",
    "  "
   ]
  },
  {
   "cell_type": "code",
   "execution_count": null,
   "metadata": {},
   "outputs": [],
   "source": []
  }
 ],
 "metadata": {
  "kernelspec": {
   "display_name": "Python 3",
   "language": "python",
   "name": "python3"
  },
  "language_info": {
   "codemirror_mode": {
    "name": "ipython",
    "version": 3
   },
   "file_extension": ".py",
   "mimetype": "text/x-python",
   "name": "python",
   "nbconvert_exporter": "python",
   "pygments_lexer": "ipython3",
   "version": "3.6.2"
  }
 },
 "nbformat": 4,
 "nbformat_minor": 2
}
